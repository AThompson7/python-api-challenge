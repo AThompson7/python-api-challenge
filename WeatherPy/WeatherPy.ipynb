{
 "cells": [
  {
   "cell_type": "markdown",
   "metadata": {},
   "source": [
    "# WeatherPy\n",
    "----\n",
    "\n",
    "#### Note\n",
    "* Instructions have been included for each segment. You do not have to follow them exactly, but they are included to help you think through the steps."
   ]
  },
  {
   "cell_type": "code",
   "execution_count": 106,
   "metadata": {
    "scrolled": true
   },
   "outputs": [
    {
     "data": {
      "text/plain": [
       "'0681dc3d09ab3252da5f259c0e1c4e13'"
      ]
     },
     "execution_count": 106,
     "metadata": {},
     "output_type": "execute_result"
    }
   ],
   "source": [
    "# Dependencies and Setup\n",
    "import matplotlib.pyplot as plt\n",
    "import pandas as pd\n",
    "import numpy as np\n",
    "import requests\n",
    "import time\n",
    "import scipy.stats as st\n",
    "\n",
    "# Import API key\n",
    "from api_keys import weather_api_key\n",
    "\n",
    "# Incorporated citipy to determine city based on latitude and longitude\n",
    "from citipy import citipy\n",
    "\n",
    "# Output File (CSV)\n",
    "output_data_file = \"output_data/cities.csv\"\n",
    "\n",
    "# Range of latitudes and longitudes\n",
    "lat_range = (-90, 90)\n",
    "lng_range = (-180, 180)\n",
    "weather_api_key"
   ]
  },
  {
   "cell_type": "markdown",
   "metadata": {},
   "source": [
    "## Generate Cities List"
   ]
  },
  {
   "cell_type": "code",
   "execution_count": 2,
   "metadata": {},
   "outputs": [
    {
     "data": {
      "text/plain": [
       "621"
      ]
     },
     "execution_count": 2,
     "metadata": {},
     "output_type": "execute_result"
    }
   ],
   "source": [
    "# List for holding lat_lngs and cities\n",
    "lat_lngs = []\n",
    "cities = []\n",
    "\n",
    "# Create a set of random lat and lng combinations\n",
    "np.random.seed(3)\n",
    "lats = np.random.uniform(lat_range[0], lat_range[1], size=1500)\n",
    "lngs = np.random.uniform(lng_range[0], lng_range[1], size=1500)\n",
    "lat_lngs = zip(lats, lngs)\n",
    "\n",
    "# Identify nearest city for each lat, lng combination\n",
    "for lat_lng in lat_lngs:\n",
    "    city = citipy.nearest_city(lat_lng[0], lat_lng[1]).city_name\n",
    "    \n",
    "    # If the city is unique, then add it to a our cities list\n",
    "    if city not in cities:\n",
    "        cities.append(city)\n",
    "\n",
    "# Print the city count to confirm sufficient count\n",
    "len(cities)\n"
   ]
  },
  {
   "cell_type": "markdown",
   "metadata": {},
   "source": [
    "### Perform API Calls\n",
    "* Perform a weather check on each city using a series of successive API calls.\n",
    "* Include a print log of each city as it's being processed (with the city number and city name).\n"
   ]
  },
  {
   "cell_type": "code",
   "execution_count": 3,
   "metadata": {},
   "outputs": [
    {
     "data": {
      "text/plain": [
       "'https://api.openweathermap.org/data/2.5/weather?appid=0681dc3d09ab3252da5f259c0e1c4e13&units=metric&q='"
      ]
     },
     "execution_count": 3,
     "metadata": {},
     "output_type": "execute_result"
    }
   ],
   "source": [
    "base_url = \"https://api.openweathermap.org/data/2.5/weather?\"\n",
    "units = \"metric\"\n",
    "url = f\"{base_url}appid={weather_api_key}&units={units}&q=\"\n",
    "\n",
    "url"
   ]
  },
  {
   "cell_type": "code",
   "execution_count": 76,
   "metadata": {},
   "outputs": [
    {
     "data": {
      "text/plain": [
       "'zakharo'"
      ]
     },
     "execution_count": 76,
     "metadata": {},
     "output_type": "execute_result"
    }
   ],
   "source": [
    "cities[1]\n"
   ]
  },
  {
   "cell_type": "code",
   "execution_count": 5,
   "metadata": {},
   "outputs": [
    {
     "data": {
      "text/plain": [
       "55"
      ]
     },
     "execution_count": 5,
     "metadata": {},
     "output_type": "execute_result"
    }
   ],
   "source": [
    "test_city = requests.get(url + \"mariestad\").json()\n",
    "test_city[\"clouds\"][\"all\"]"
   ]
  },
  {
   "cell_type": "code",
   "execution_count": 6,
   "metadata": {},
   "outputs": [],
   "source": [
    "#Creating lists to create data frame\n",
    "city_name = []\n",
    "lat_list = []\n",
    "lng_list = []\n",
    "max_temp = []\n",
    "humidity = []\n",
    "cloudiness = []\n",
    "wind_speed = []\n",
    "country = []\n",
    "date = []\n",
    "record = 0\n"
   ]
  },
  {
   "cell_type": "code",
   "execution_count": 7,
   "metadata": {},
   "outputs": [
    {
     "name": "stdout",
     "output_type": "stream",
     "text": [
      "Beginning Data Retrieval\n",
      "--------------------------\n",
      "Processing Record 1 | santa cruz\n",
      "City not found. Skipping...\n",
      "Processing Record 2 | mataura\n",
      "Processing Record 3 | amapa\n",
      "Processing Record 4 | thompson\n",
      "Processing Record 5 | khatanga\n",
      "Processing Record 6 | kaitangata\n",
      "Processing Record 7 | rikitea\n",
      "Processing Record 8 | victoria\n",
      "Processing Record 9 | bluff\n",
      "Processing Record 10 | lata\n",
      "Processing Record 11 | naze\n",
      "Processing Record 12 | bambous virieux\n",
      "Processing Record 13 | marsa matruh\n",
      "Processing Record 14 | kapaa\n",
      "Processing Record 15 | raga\n",
      "Processing Record 16 | jamestown\n",
      "City not found. Skipping...\n",
      "Processing Record 17 | saint george\n",
      "Processing Record 18 | east london\n",
      "Processing Record 19 | dhidhdhoo\n",
      "Processing Record 20 | nanortalik\n",
      "Processing Record 21 | geraldton\n",
      "Processing Record 22 | castro\n",
      "City not found. Skipping...\n",
      "City not found. Skipping...\n",
      "Processing Record 23 | tuktoyaktuk\n",
      "Processing Record 24 | shingu\n",
      "Processing Record 25 | klaksvik\n",
      "Processing Record 26 | hervey bay\n",
      "Processing Record 27 | ushuaia\n",
      "Processing Record 28 | kavaratti\n",
      "Processing Record 29 | caravelas\n",
      "Processing Record 30 | namibe\n",
      "Processing Record 31 | pamanukan\n",
      "Processing Record 32 | arraial do cabo\n",
      "Processing Record 33 | mahebourg\n",
      "Processing Record 34 | san cristobal\n",
      "Processing Record 35 | tasiilaq\n",
      "Processing Record 36 | butaritari\n",
      "Processing Record 37 | lakes entrance\n",
      "City not found. Skipping...\n",
      "Processing Record 38 | albany\n",
      "Processing Record 39 | mar del plata\n",
      "Processing Record 40 | kudahuvadhoo\n",
      "Processing Record 41 | punta arenas\n",
      "Processing Record 42 | atuona\n",
      "Processing Record 43 | torbay\n",
      "Processing Record 44 | north myrtle beach\n",
      "Processing Record 45 | alice springs\n",
      "Processing Record 46 | mian channun\n",
      "Processing Record 47 | sao joao da barra\n",
      "Processing Record 48 | avarua\n",
      "Processing Record 49 | asau\n",
      "Processing Record 50 | port alfred\n",
      "Processing Record 51 | dikson\n",
      "Processing Record 52 | lasa\n",
      "Processing Record 53 | jalu\n",
      "Processing Record 54 | cuenca\n",
      "Processing Record 55 | georgetown\n",
      "Processing Record 56 | airai\n",
      "Processing Record 57 | hobart\n",
      "Processing Record 58 | busselton\n",
      "Processing Record 59 | champerico\n",
      "Processing Record 60 | narsaq\n",
      "Processing Record 61 | brigantine\n",
      "City not found. Skipping...\n",
      "Processing Record 62 | vestmannaeyjar\n",
      "Processing Record 63 | salou\n",
      "Processing Record 64 | ust-kulom\n",
      "Processing Record 65 | hami\n",
      "Processing Record 66 | los llanos de aridane\n",
      "Processing Record 67 | husavik\n",
      "Processing Record 68 | lompoc\n",
      "Processing Record 69 | alofi\n",
      "Processing Record 70 | acajutla\n",
      "Processing Record 71 | cidreira\n",
      "Processing Record 72 | dingle\n",
      "Processing Record 73 | krasnoselkup\n",
      "Processing Record 74 | gboko\n",
      "Processing Record 75 | japura\n",
      "Processing Record 76 | kozuchow\n",
      "Processing Record 77 | natal\n",
      "Processing Record 78 | serra talhada\n",
      "City not found. Skipping...\n",
      "Processing Record 79 | yellowknife\n",
      "Processing Record 80 | jiwani\n",
      "Processing Record 81 | cape town\n",
      "Processing Record 82 | trinidad\n",
      "Processing Record 83 | new norfolk\n",
      "Processing Record 84 | provideniya\n",
      "Processing Record 85 | shaowu\n",
      "Processing Record 86 | paragominas\n",
      "Processing Record 87 | esperance\n",
      "Processing Record 88 | barrow\n",
      "Processing Record 89 | barra dos coqueiros\n",
      "City not found. Skipping...\n",
      "Processing Record 90 | itarema\n",
      "Processing Record 91 | high level\n",
      "Processing Record 92 | ohara\n",
      "Processing Record 93 | clyde river\n",
      "Processing Record 94 | warmbad\n",
      "Processing Record 95 | anadyr\n",
      "Processing Record 96 | hamilton\n",
      "Processing Record 97 | redmond\n",
      "Processing Record 98 | toyoake\n",
      "Processing Record 99 | iqaluit\n",
      "Processing Record 100 | sitka\n",
      "Processing Record 101 | inhambane\n",
      "Processing Record 102 | eureka\n",
      "Processing Record 103 | sola\n",
      "Processing Record 104 | mezen\n",
      "City not found. Skipping...\n",
      "Processing Record 105 | eldorado\n",
      "Processing Record 106 | kruisfontein\n",
      "Processing Record 107 | yatou\n",
      "Processing Record 108 | ust-omchug\n",
      "Processing Record 109 | kochevo\n",
      "Processing Record 110 | timra\n",
      "Processing Record 111 | saint-philippe\n",
      "Processing Record 112 | waingapu\n",
      "Processing Record 113 | ginir\n",
      "Processing Record 114 | solnechnyy\n",
      "Processing Record 115 | hilo\n",
      "Processing Record 116 | bonavista\n",
      "Processing Record 117 | pevek\n",
      "Processing Record 118 | anyang\n",
      "Processing Record 119 | hermanus\n",
      "City not found. Skipping...\n",
      "Processing Record 120 | adelaide\n",
      "Processing Record 121 | coahuayana\n",
      "Processing Record 122 | boa vista\n",
      "City not found. Skipping...\n",
      "Processing Record 123 | namatanai\n",
      "Processing Record 124 | puerto ayora\n",
      "Processing Record 125 | yondo\n",
      "Processing Record 126 | gizo\n",
      "City not found. Skipping...\n",
      "Processing Record 127 | ponta do sol\n",
      "Processing Record 128 | tocopilla\n",
      "Processing Record 129 | cancun\n",
      "Processing Record 130 | chuy\n",
      "Processing Record 131 | general roca\n",
      "Processing Record 132 | balagansk\n",
      "Processing Record 133 | portland\n",
      "Processing Record 134 | coihaique\n",
      "City not found. Skipping...\n",
      "Processing Record 135 | ankang\n",
      "Processing Record 136 | solec kujawski\n",
      "Processing Record 137 | sinnamary\n",
      "Processing Record 138 | cerqueira cesar\n",
      "Processing Record 139 | kidal\n",
      "Processing Record 140 | vavozh\n",
      "Processing Record 141 | caceres\n",
      "Processing Record 142 | zhangye\n",
      "Processing Record 143 | da lat\n",
      "Processing Record 144 | chiang rai\n",
      "Processing Record 145 | faanui\n",
      "Processing Record 146 | tuatapere\n",
      "Processing Record 147 | cartagena\n",
      "Processing Record 148 | port lincoln\n",
      "Processing Record 149 | longyearbyen\n",
      "City not found. Skipping...\n",
      "Processing Record 150 | lagoa\n",
      "Processing Record 151 | hambantota\n",
      "City not found. Skipping...\n",
      "Processing Record 152 | port elizabeth\n",
      "Processing Record 153 | kuusamo\n",
      "Processing Record 154 | birjand\n",
      "Processing Record 155 | ponta delgada\n",
      "Processing Record 156 | kalianget\n",
      "Processing Record 157 | belz\n",
      "Processing Record 158 | bredasdorp\n",
      "Processing Record 159 | fortuna\n",
      "Processing Record 160 | brewster\n",
      "Processing Record 161 | yenagoa\n",
      "Processing Record 162 | samarai\n",
      "Processing Record 163 | westport\n",
      "Processing Record 164 | yaan\n",
      "Processing Record 165 | qaanaaq\n",
      "Processing Record 166 | lavrentiya\n",
      "Processing Record 167 | hegang\n",
      "Processing Record 168 | axim\n",
      "Processing Record 169 | rosarito\n",
      "Processing Record 170 | brest\n",
      "Processing Record 171 | atar\n",
      "Processing Record 172 | edd\n",
      "Processing Record 173 | shaoyang\n",
      "Processing Record 174 | ejura\n",
      "Processing Record 175 | cabo san lucas\n",
      "Processing Record 176 | kamina\n",
      "Processing Record 177 | acapulco\n",
      "Processing Record 178 | seoul\n",
      "Processing Record 179 | nanakuli\n",
      "Processing Record 180 | alekseyevsk\n",
      "Processing Record 181 | touros\n",
      "Processing Record 182 | lakselv\n",
      "Processing Record 183 | toamasina\n",
      "Processing Record 184 | plastun\n",
      "Processing Record 185 | nouadhibou\n",
      "Processing Record 186 | birobidzhan\n",
      "Processing Record 187 | kiama\n",
      "City not found. Skipping...\n",
      "Processing Record 188 | nikolskoye\n",
      "Processing Record 189 | lumphat\n",
      "City not found. Skipping...\n",
      "Processing Record 190 | cherskiy\n",
      "Processing Record 191 | cayenne\n",
      "Processing Record 192 | saint-pierre\n",
      "Processing Record 193 | kavieng\n",
      "Processing Record 194 | san patricio\n",
      "Processing Record 195 | santo antonio\n",
      "Processing Record 196 | morondava\n",
      "Processing Record 197 | upernavik\n",
      "Processing Record 198 | sioux lookout\n",
      "Processing Record 199 | bereda\n",
      "Processing Record 200 | yar-sale\n",
      "Processing Record 201 | huambo\n",
      "Processing Record 202 | northam\n",
      "Processing Record 203 | san joaquin\n",
      "Processing Record 204 | lalmohan\n",
      "Processing Record 205 | hino\n",
      "Processing Record 206 | rocha\n",
      "Processing Record 207 | ucluelet\n",
      "Processing Record 208 | andenes\n",
      "Processing Record 209 | verkhoyansk\n",
      "Processing Record 210 | lebu\n",
      "Processing Record 211 | chokurdakh\n",
      "Processing Record 212 | madimba\n",
      "Processing Record 213 | jinchang\n",
      "Processing Record 214 | luganville\n",
      "Processing Record 215 | neuquen\n",
      "Processing Record 216 | lhokseumawe\n",
      "Processing Record 217 | souillac\n",
      "Processing Record 218 | sorong\n",
      "Processing Record 219 | hobyo\n",
      "Processing Record 220 | zabol\n",
      "Processing Record 221 | llanes\n",
      "Processing Record 222 | ribeira grande\n",
      "Processing Record 223 | fomboni\n",
      "Processing Record 224 | ifakara\n",
      "Processing Record 225 | kodiak\n",
      "City not found. Skipping...\n",
      "Processing Record 226 | tamale\n",
      "Processing Record 227 | kerikeri\n",
      "Processing Record 228 | katsuura\n",
      "Processing Record 229 | jumla\n",
      "Processing Record 230 | miri\n",
      "Processing Record 231 | ivanjica\n",
      "Processing Record 232 | kisangani\n",
      "Processing Record 233 | leh\n",
      "Processing Record 234 | parvatipuram\n"
     ]
    },
    {
     "name": "stdout",
     "output_type": "stream",
     "text": [
      "Processing Record 235 | qaqortoq\n",
      "Processing Record 236 | bhainsdehi\n",
      "Processing Record 237 | hithadhoo\n",
      "Processing Record 238 | biak\n",
      "Processing Record 239 | papagaios\n",
      "Processing Record 240 | vardo\n",
      "Processing Record 241 | sur\n",
      "Processing Record 242 | severo-kurilsk\n",
      "Processing Record 243 | ostrovnoy\n",
      "City not found. Skipping...\n",
      "Processing Record 244 | huarmey\n",
      "Processing Record 245 | otradnoye\n",
      "Processing Record 246 | kyren\n",
      "Processing Record 247 | mbandaka\n",
      "Processing Record 248 | borgarnes\n",
      "Processing Record 249 | ozernovskiy\n",
      "Processing Record 250 | raudeberg\n",
      "Processing Record 251 | yulara\n",
      "Processing Record 252 | clarence town\n",
      "City not found. Skipping...\n",
      "Processing Record 253 | gavle\n",
      "Processing Record 254 | la asuncion\n",
      "Processing Record 255 | valparaiso\n",
      "Processing Record 256 | savannah bight\n",
      "City not found. Skipping...\n",
      "Processing Record 257 | horsham\n",
      "Processing Record 258 | vaini\n",
      "Processing Record 259 | dale\n",
      "Processing Record 260 | mutuipe\n",
      "Processing Record 261 | maniitsoq\n",
      "Processing Record 262 | padang\n",
      "Processing Record 263 | praya\n",
      "City not found. Skipping...\n",
      "Processing Record 264 | valle de allende\n",
      "Processing Record 265 | yerbogachen\n",
      "Processing Record 266 | bac lieu\n",
      "Processing Record 267 | ouadda\n",
      "Processing Record 268 | aksu\n",
      "Processing Record 269 | nizwa\n",
      "Processing Record 270 | pacific grove\n",
      "Processing Record 271 | paracuru\n",
      "Processing Record 272 | tigzirt\n",
      "Processing Record 273 | mount gambier\n",
      "Processing Record 274 | shieli\n",
      "Processing Record 275 | port hardy\n",
      "Processing Record 276 | high rock\n",
      "Processing Record 277 | shemysheyka\n",
      "Processing Record 278 | bocas del toro\n",
      "Processing Record 279 | meulaboh\n",
      "Processing Record 280 | plettenberg bay\n",
      "Processing Record 281 | teahupoo\n",
      "Processing Record 282 | mandalgovi\n",
      "Processing Record 283 | chapleau\n",
      "Processing Record 284 | preobrazheniye\n",
      "Processing Record 285 | marsala\n",
      "Processing Record 286 | ahuimanu\n",
      "Processing Record 287 | kieta\n",
      "Processing Record 288 | maxixe\n",
      "Processing Record 289 | monte alegre de sergipe\n",
      "Processing Record 290 | lagos\n",
      "Processing Record 291 | jiujiang\n",
      "Processing Record 292 | pio ix\n",
      "City not found. Skipping...\n",
      "Processing Record 293 | kahului\n",
      "Processing Record 294 | pangnirtung\n",
      "City not found. Skipping...\n",
      "Processing Record 295 | saint-augustin\n",
      "Processing Record 296 | komsomolskiy\n",
      "Processing Record 297 | babynino\n",
      "Processing Record 298 | broome\n",
      "Processing Record 299 | shimoda\n",
      "Processing Record 300 | masallatah\n",
      "Processing Record 301 | tucuma\n",
      "City not found. Skipping...\n",
      "Processing Record 302 | baracoa\n",
      "City not found. Skipping...\n",
      "City not found. Skipping...\n",
      "Processing Record 303 | kearney\n",
      "City not found. Skipping...\n",
      "Processing Record 304 | saldanha\n",
      "City not found. Skipping...\n",
      "Processing Record 305 | lafayette\n",
      "Processing Record 306 | pacifica\n",
      "Processing Record 307 | dalianwan\n",
      "Processing Record 308 | rosetta\n",
      "Processing Record 309 | san felipe\n",
      "Processing Record 310 | shar\n",
      "Processing Record 311 | almaznyy\n",
      "Processing Record 312 | surt\n",
      "Processing Record 313 | urubicha\n",
      "City not found. Skipping...\n",
      "Processing Record 314 | norman wells\n",
      "Processing Record 315 | labuhan\n",
      "Processing Record 316 | awjilah\n",
      "Processing Record 317 | sumbe\n",
      "Processing Record 318 | luderitz\n",
      "Processing Record 319 | bethel\n",
      "Processing Record 320 | vila velha\n",
      "Processing Record 321 | marsabit\n",
      "Processing Record 322 | naples\n",
      "Processing Record 323 | stephenville\n",
      "Processing Record 324 | saint anthony\n",
      "Processing Record 325 | baykit\n",
      "Processing Record 326 | rockland\n",
      "Processing Record 327 | praia\n",
      "Processing Record 328 | miracema do tocantins\n",
      "Processing Record 329 | taoudenni\n",
      "Processing Record 330 | balkanabat\n",
      "Processing Record 331 | talnakh\n",
      "Processing Record 332 | toropets\n",
      "Processing Record 333 | calvinia\n",
      "City not found. Skipping...\n",
      "Processing Record 334 | paris\n",
      "Processing Record 335 | san ramon\n",
      "Processing Record 336 | grand-santi\n",
      "Processing Record 337 | carnarvon\n",
      "Processing Record 338 | yarada\n",
      "Processing Record 339 | santa rosalia\n",
      "Processing Record 340 | aranos\n",
      "Processing Record 341 | sao filipe\n",
      "Processing Record 342 | zhezkazgan\n",
      "Processing Record 343 | xining\n",
      "Processing Record 344 | hasaki\n",
      "Processing Record 345 | lorengau\n",
      "Processing Record 346 | yen bai\n",
      "Processing Record 347 | menongue\n",
      "Processing Record 348 | saskylakh\n",
      "Processing Record 349 | mecca\n",
      "Processing Record 350 | clinton\n",
      "Processing Record 351 | bandarbeyla\n",
      "Processing Record 352 | baripada\n",
      "Processing Record 353 | evensk\n",
      "Processing Record 354 | la libertad\n",
      "Processing Record 355 | key west\n",
      "City not found. Skipping...\n",
      "Processing Record 356 | ciampino\n",
      "Processing Record 357 | sakakah\n",
      "Processing Record 358 | codrington\n",
      "Processing Record 359 | constitucion\n",
      "Processing Record 360 | purpe\n",
      "Processing Record 361 | wanlaweyn\n",
      "Processing Record 362 | jurm\n",
      "Processing Record 363 | coquimbo\n",
      "Processing Record 364 | hebi\n",
      "Processing Record 365 | siano\n",
      "Processing Record 366 | port shepstone\n",
      "Processing Record 367 | kenmare\n",
      "Processing Record 368 | khasan\n",
      "Processing Record 369 | velingara\n",
      "Processing Record 370 | roebourne\n",
      "City not found. Skipping...\n",
      "Processing Record 371 | aklavik\n",
      "Processing Record 372 | nambour\n",
      "Processing Record 373 | katubao\n",
      "Processing Record 374 | rabo de peixe\n",
      "Processing Record 375 | te anau\n",
      "City not found. Skipping...\n",
      "Processing Record 376 | tongren\n",
      "Processing Record 377 | choszczno\n",
      "City not found. Skipping...\n",
      "Processing Record 378 | tarakan\n",
      "Processing Record 379 | jalingo\n",
      "City not found. Skipping...\n",
      "City not found. Skipping...\n",
      "Processing Record 380 | were ilu\n",
      "Processing Record 381 | gannan\n",
      "Processing Record 382 | biu\n",
      "Processing Record 383 | idrinskoye\n",
      "Processing Record 384 | daru\n",
      "City not found. Skipping...\n",
      "Processing Record 385 | irpa irpa\n",
      "Processing Record 386 | dunedin\n",
      "Processing Record 387 | beamsville\n",
      "Processing Record 388 | ulladulla\n",
      "Processing Record 389 | nova olinda do norte\n",
      "City not found. Skipping...\n",
      "Processing Record 390 | alta floresta\n",
      "Processing Record 391 | pangody\n",
      "Processing Record 392 | kovur\n",
      "Processing Record 393 | brae\n",
      "Processing Record 394 | labytnangi\n",
      "City not found. Skipping...\n",
      "Processing Record 395 | kushima\n",
      "Processing Record 396 | mehamn\n",
      "City not found. Skipping...\n",
      "Processing Record 397 | ewa beach\n",
      "Processing Record 398 | esmeralda\n",
      "Processing Record 399 | quelimane\n",
      "Processing Record 400 | sawtell\n",
      "Processing Record 401 | san quintin\n",
      "Processing Record 402 | tiksi\n",
      "Processing Record 403 | flin flon\n",
      "Processing Record 404 | marshall\n",
      "Processing Record 405 | watsa\n",
      "Processing Record 406 | half moon bay\n",
      "Processing Record 407 | nova serrana\n",
      "Processing Record 408 | paamiut\n",
      "Processing Record 409 | beringovskiy\n",
      "City not found. Skipping...\n",
      "Processing Record 410 | mrakovo\n",
      "Processing Record 411 | koforidua\n",
      "Processing Record 412 | oussouye\n",
      "Processing Record 413 | anagni\n",
      "Processing Record 414 | hastings\n",
      "Processing Record 415 | takaka\n",
      "Processing Record 416 | matata\n",
      "Processing Record 417 | molnlycke\n",
      "Processing Record 418 | chapais\n",
      "Processing Record 419 | manaure\n",
      "City not found. Skipping...\n",
      "Processing Record 420 | rayong\n",
      "Processing Record 421 | marsh harbour\n",
      "City not found. Skipping...\n",
      "Processing Record 422 | villamontes\n",
      "City not found. Skipping...\n",
      "Processing Record 423 | kirakira\n",
      "Processing Record 424 | honiara\n",
      "Processing Record 425 | yining\n",
      "Processing Record 426 | kibuye\n",
      "Processing Record 427 | karasburg\n",
      "Processing Record 428 | chabahar\n",
      "Processing Record 429 | agirish\n",
      "Processing Record 430 | bilma\n",
      "Processing Record 431 | nuzvid\n",
      "Processing Record 432 | guia de isora\n",
      "Processing Record 433 | walvis bay\n",
      "Processing Record 434 | shenjiamen\n",
      "Processing Record 435 | porto santo\n",
      "Processing Record 436 | la guardia\n",
      "Processing Record 437 | queanbeyan\n",
      "City not found. Skipping...\n",
      "Processing Record 438 | ancud\n",
      "Processing Record 439 | comodoro rivadavia\n",
      "Processing Record 440 | tombouctou\n",
      "Processing Record 441 | iberia\n",
      "Processing Record 442 | arrifes\n",
      "Processing Record 443 | gouyave\n",
      "Processing Record 444 | roseburg\n",
      "Processing Record 445 | schwechat\n",
      "Processing Record 446 | jiayuguan\n",
      "Processing Record 447 | shwebo\n",
      "City not found. Skipping...\n",
      "Processing Record 448 | teknaf\n",
      "City not found. Skipping...\n",
      "Processing Record 449 | black river\n",
      "Processing Record 450 | vao\n",
      "Processing Record 451 | aswan\n",
      "Processing Record 452 | luwuk\n",
      "Processing Record 453 | ascension\n",
      "Processing Record 454 | belgrade\n",
      "Processing Record 455 | kaabong\n"
     ]
    },
    {
     "name": "stdout",
     "output_type": "stream",
     "text": [
      "Processing Record 456 | bengkulu\n",
      "Processing Record 457 | sheridan\n",
      "Processing Record 458 | hirado\n",
      "City not found. Skipping...\n",
      "Processing Record 459 | berlevag\n",
      "Processing Record 460 | camacha\n",
      "Processing Record 461 | taunggyi\n",
      "Processing Record 462 | tabou\n",
      "Processing Record 463 | tamiahua\n",
      "Processing Record 464 | mucurapo\n",
      "Processing Record 465 | qandala\n",
      "Processing Record 466 | caibarien\n",
      "Processing Record 467 | kismayo\n",
      "Processing Record 468 | farafangana\n",
      "Processing Record 469 | gamba\n",
      "Processing Record 470 | natick\n",
      "Processing Record 471 | santiago del estero\n",
      "Processing Record 472 | bara\n",
      "Processing Record 473 | korla\n",
      "Processing Record 474 | tabuk\n",
      "Processing Record 475 | ocumare del tuy\n",
      "Processing Record 476 | grindavik\n",
      "Processing Record 477 | denison\n",
      "Processing Record 478 | arica\n",
      "Processing Record 479 | shakawe\n",
      "Processing Record 480 | avera\n",
      "Processing Record 481 | belmonte\n",
      "City not found. Skipping...\n",
      "Processing Record 482 | leningradskiy\n",
      "Processing Record 483 | petropavlovsk-kamchatskiy\n",
      "Processing Record 484 | ampanihy\n",
      "Processing Record 485 | pekalongan\n",
      "Processing Record 486 | pala\n",
      "Processing Record 487 | puerto suarez\n",
      "City not found. Skipping...\n",
      "Processing Record 488 | haines junction\n",
      "Processing Record 489 | orlik\n",
      "Processing Record 490 | piacabucu\n",
      "Processing Record 491 | baker city\n",
      "Processing Record 492 | aksarka\n",
      "Processing Record 493 | bonthe\n",
      "Processing Record 494 | rundu\n",
      "Processing Record 495 | kibala\n",
      "Processing Record 496 | pangoa\n",
      "Processing Record 497 | wajid\n",
      "Processing Record 498 | dongkan\n",
      "City not found. Skipping...\n",
      "Processing Record 499 | kapoeta\n",
      "City not found. Skipping...\n",
      "Processing Record 500 | tazovskiy\n",
      "Processing Record 501 | lisala\n",
      "Processing Record 502 | tortoli\n",
      "Processing Record 503 | zelenoborsk\n",
      "Processing Record 504 | churachandpur\n",
      "Processing Record 505 | abha\n",
      "Processing Record 506 | ilulissat\n",
      "Processing Record 507 | shaki\n",
      "Processing Record 508 | pisco\n",
      "Processing Record 509 | leiyang\n",
      "Processing Record 510 | burg\n",
      "Processing Record 511 | thinadhoo\n",
      "Processing Record 512 | college\n",
      "Processing Record 513 | mineiros\n",
      "Processing Record 514 | ranfurly\n",
      "Processing Record 515 | mahanoro\n",
      "Processing Record 516 | taywarah\n",
      "Processing Record 517 | hokitika\n",
      "City not found. Skipping...\n",
      "City not found. Skipping...\n",
      "City not found. Skipping...\n",
      "Processing Record 518 | atikokan\n",
      "City not found. Skipping...\n",
      "Processing Record 519 | terenos\n",
      "City not found. Skipping...\n",
      "Processing Record 520 | marawi\n",
      "Processing Record 521 | broken hill\n",
      "Processing Record 522 | kasongo-lunda\n",
      "Processing Record 523 | khorramshahr\n",
      "Processing Record 524 | senanga\n",
      "Processing Record 525 | port hedland\n",
      "Processing Record 526 | tautira\n",
      "Processing Record 527 | tecoanapa\n",
      "Processing Record 528 | bismarck\n",
      "Processing Record 529 | laguna\n",
      "Processing Record 530 | bolotnoye\n",
      "Processing Record 531 | jamalpur\n",
      "Processing Record 532 | catamarca\n",
      "Processing Record 533 | bekwai\n",
      "City not found. Skipping...\n",
      "Processing Record 534 | kutum\n",
      "Processing Record 535 | chino valley\n",
      "Processing Record 536 | gomel\n",
      "Processing Record 537 | gandu\n",
      "Processing Record 538 | jati\n",
      "Processing Record 539 | port augusta\n",
      "Processing Record 540 | pareora\n",
      "Processing Record 541 | nome\n",
      "Processing Record 542 | sarangani\n",
      "Processing Record 543 | tromso\n",
      "City not found. Skipping...\n",
      "Processing Record 544 | merauke\n",
      "Processing Record 545 | nandgaon\n",
      "Processing Record 546 | tiarei\n",
      "Processing Record 547 | garowe\n",
      "Processing Record 548 | zhigansk\n",
      "Processing Record 549 | harboore\n",
      "Processing Record 550 | kambove\n",
      "Processing Record 551 | murnau\n",
      "Processing Record 552 | porbandar\n",
      "Processing Record 553 | emerald\n",
      "Processing Record 554 | margate\n",
      "Processing Record 555 | kaeo\n",
      "Processing Record 556 | olafsvik\n",
      "Processing Record 557 | potiskum\n",
      "Processing Record 558 | maralal\n",
      "Processing Record 559 | dwarka\n",
      "Processing Record 560 | sonkovo\n",
      "Processing Record 561 | isiro\n",
      "--------------------------\n",
      "Data Retrieval Complete\n",
      "--------------------------\n"
     ]
    }
   ],
   "source": [
    "print(\"Beginning Data Retrieval\")\n",
    "print(\"--------------------------\")\n",
    "for city in cities:\n",
    "    try:\n",
    "        response = requests.get(url+ city).json()\n",
    "        city_name.append(response[\"name\"])\n",
    "        lat_list.append(response[\"coord\"][\"lat\"])\n",
    "        lng_list.append(response[\"coord\"][\"lon\"])\n",
    "        max_temp.append(response[\"main\"][\"temp_max\"])\n",
    "        humidity.append(response[\"main\"][\"humidity\"])\n",
    "        cloudiness.append(response[\"clouds\"][\"all\"])\n",
    "        wind_speed.append(response[\"wind\"][\"speed\"])\n",
    "        country.append(response[\"sys\"][\"country\"])\n",
    "        date.append(response[\"dt\"])\n",
    "        record += 1\n",
    "        print(f'Processing Record {record} | {city}')\n",
    "    except:\n",
    "        print(\"City not found. Skipping...\")\n",
    "print(\"--------------------------\")\n",
    "print(\"Data Retrieval Complete\")\n",
    "print(\"--------------------------\")    "
   ]
  },
  {
   "cell_type": "code",
   "execution_count": null,
   "metadata": {},
   "outputs": [],
   "source": []
  },
  {
   "cell_type": "markdown",
   "metadata": {},
   "source": [
    "### Convert Raw Data to DataFrame\n",
    "* Export the city data into a .csv.\n",
    "* Display the DataFrame"
   ]
  },
  {
   "cell_type": "code",
   "execution_count": 10,
   "metadata": {},
   "outputs": [
    {
     "data": {
      "text/html": [
       "<div>\n",
       "<style scoped>\n",
       "    .dataframe tbody tr th:only-of-type {\n",
       "        vertical-align: middle;\n",
       "    }\n",
       "\n",
       "    .dataframe tbody tr th {\n",
       "        vertical-align: top;\n",
       "    }\n",
       "\n",
       "    .dataframe thead th {\n",
       "        text-align: right;\n",
       "    }\n",
       "</style>\n",
       "<table border=\"1\" class=\"dataframe\">\n",
       "  <thead>\n",
       "    <tr style=\"text-align: right;\">\n",
       "      <th></th>\n",
       "      <th>City</th>\n",
       "      <th>Lat</th>\n",
       "      <th>Lng</th>\n",
       "      <th>Max Temp</th>\n",
       "      <th>Humidity</th>\n",
       "      <th>Cloudiness</th>\n",
       "      <th>Wind Speed</th>\n",
       "      <th>Country</th>\n",
       "      <th>Date</th>\n",
       "    </tr>\n",
       "  </thead>\n",
       "  <tbody>\n",
       "    <tr>\n",
       "      <th>0</th>\n",
       "      <td>Santa Cruz de la Sierra</td>\n",
       "      <td>-17.8000</td>\n",
       "      <td>-63.1667</td>\n",
       "      <td>18.03</td>\n",
       "      <td>68</td>\n",
       "      <td>75</td>\n",
       "      <td>12.86</td>\n",
       "      <td>BO</td>\n",
       "      <td>1660058961</td>\n",
       "    </tr>\n",
       "    <tr>\n",
       "      <th>1</th>\n",
       "      <td>Mataura</td>\n",
       "      <td>-46.1927</td>\n",
       "      <td>168.8643</td>\n",
       "      <td>-3.04</td>\n",
       "      <td>96</td>\n",
       "      <td>7</td>\n",
       "      <td>0.85</td>\n",
       "      <td>NZ</td>\n",
       "      <td>1660059349</td>\n",
       "    </tr>\n",
       "    <tr>\n",
       "      <th>2</th>\n",
       "      <td>Amapá</td>\n",
       "      <td>1.0000</td>\n",
       "      <td>-52.0000</td>\n",
       "      <td>33.03</td>\n",
       "      <td>39</td>\n",
       "      <td>67</td>\n",
       "      <td>2.47</td>\n",
       "      <td>BR</td>\n",
       "      <td>1660059350</td>\n",
       "    </tr>\n",
       "    <tr>\n",
       "      <th>3</th>\n",
       "      <td>Thompson</td>\n",
       "      <td>55.7435</td>\n",
       "      <td>-97.8558</td>\n",
       "      <td>14.09</td>\n",
       "      <td>82</td>\n",
       "      <td>75</td>\n",
       "      <td>6.17</td>\n",
       "      <td>CA</td>\n",
       "      <td>1660059351</td>\n",
       "    </tr>\n",
       "    <tr>\n",
       "      <th>4</th>\n",
       "      <td>Khatanga</td>\n",
       "      <td>71.9667</td>\n",
       "      <td>102.5000</td>\n",
       "      <td>14.03</td>\n",
       "      <td>76</td>\n",
       "      <td>77</td>\n",
       "      <td>4.94</td>\n",
       "      <td>RU</td>\n",
       "      <td>1660059353</td>\n",
       "    </tr>\n",
       "    <tr>\n",
       "      <th>...</th>\n",
       "      <td>...</td>\n",
       "      <td>...</td>\n",
       "      <td>...</td>\n",
       "      <td>...</td>\n",
       "      <td>...</td>\n",
       "      <td>...</td>\n",
       "      <td>...</td>\n",
       "      <td>...</td>\n",
       "      <td>...</td>\n",
       "    </tr>\n",
       "    <tr>\n",
       "      <th>556</th>\n",
       "      <td>Potiskum</td>\n",
       "      <td>11.7091</td>\n",
       "      <td>11.0694</td>\n",
       "      <td>32.44</td>\n",
       "      <td>39</td>\n",
       "      <td>15</td>\n",
       "      <td>2.01</td>\n",
       "      <td>NG</td>\n",
       "      <td>1660060213</td>\n",
       "    </tr>\n",
       "    <tr>\n",
       "      <th>557</th>\n",
       "      <td>Maralal</td>\n",
       "      <td>1.0968</td>\n",
       "      <td>36.6980</td>\n",
       "      <td>19.02</td>\n",
       "      <td>64</td>\n",
       "      <td>100</td>\n",
       "      <td>1.60</td>\n",
       "      <td>KE</td>\n",
       "      <td>1660060214</td>\n",
       "    </tr>\n",
       "    <tr>\n",
       "      <th>558</th>\n",
       "      <td>Dwārka</td>\n",
       "      <td>22.2394</td>\n",
       "      <td>68.9678</td>\n",
       "      <td>28.70</td>\n",
       "      <td>84</td>\n",
       "      <td>100</td>\n",
       "      <td>6.87</td>\n",
       "      <td>IN</td>\n",
       "      <td>1660060215</td>\n",
       "    </tr>\n",
       "    <tr>\n",
       "      <th>559</th>\n",
       "      <td>Sonkovo</td>\n",
       "      <td>57.7782</td>\n",
       "      <td>37.1571</td>\n",
       "      <td>18.11</td>\n",
       "      <td>62</td>\n",
       "      <td>33</td>\n",
       "      <td>2.95</td>\n",
       "      <td>RU</td>\n",
       "      <td>1660060217</td>\n",
       "    </tr>\n",
       "    <tr>\n",
       "      <th>560</th>\n",
       "      <td>Isiro</td>\n",
       "      <td>2.7739</td>\n",
       "      <td>27.6160</td>\n",
       "      <td>23.96</td>\n",
       "      <td>77</td>\n",
       "      <td>99</td>\n",
       "      <td>0.21</td>\n",
       "      <td>CD</td>\n",
       "      <td>1660060218</td>\n",
       "    </tr>\n",
       "  </tbody>\n",
       "</table>\n",
       "<p>561 rows × 9 columns</p>\n",
       "</div>"
      ],
      "text/plain": [
       "                        City      Lat       Lng  Max Temp  Humidity  \\\n",
       "0    Santa Cruz de la Sierra -17.8000  -63.1667     18.03        68   \n",
       "1                    Mataura -46.1927  168.8643     -3.04        96   \n",
       "2                      Amapá   1.0000  -52.0000     33.03        39   \n",
       "3                   Thompson  55.7435  -97.8558     14.09        82   \n",
       "4                   Khatanga  71.9667  102.5000     14.03        76   \n",
       "..                       ...      ...       ...       ...       ...   \n",
       "556                 Potiskum  11.7091   11.0694     32.44        39   \n",
       "557                  Maralal   1.0968   36.6980     19.02        64   \n",
       "558                   Dwārka  22.2394   68.9678     28.70        84   \n",
       "559                  Sonkovo  57.7782   37.1571     18.11        62   \n",
       "560                    Isiro   2.7739   27.6160     23.96        77   \n",
       "\n",
       "     Cloudiness  Wind Speed Country        Date  \n",
       "0            75       12.86      BO  1660058961  \n",
       "1             7        0.85      NZ  1660059349  \n",
       "2            67        2.47      BR  1660059350  \n",
       "3            75        6.17      CA  1660059351  \n",
       "4            77        4.94      RU  1660059353  \n",
       "..          ...         ...     ...         ...  \n",
       "556          15        2.01      NG  1660060213  \n",
       "557         100        1.60      KE  1660060214  \n",
       "558         100        6.87      IN  1660060215  \n",
       "559          33        2.95      RU  1660060217  \n",
       "560          99        0.21      CD  1660060218  \n",
       "\n",
       "[561 rows x 9 columns]"
      ]
     },
     "execution_count": 10,
     "metadata": {},
     "output_type": "execute_result"
    }
   ],
   "source": [
    "city_data_df = pd.DataFrame({\"City\":city_name, \"Lat\":lat_list, \"Lng\":lng_list, \"Max Temp\":max_temp, \"Humidity\": humidity,\n",
    "                            \"Cloudiness\": cloudiness, \"Wind Speed\": wind_speed, \"Country\": country, \"Date\": date})\n",
    "city_data_df"
   ]
  },
  {
   "cell_type": "code",
   "execution_count": 75,
   "metadata": {},
   "outputs": [],
   "source": [
    "city_data_df.to_csv(\"output_data/cities.csv\", index = False)"
   ]
  },
  {
   "cell_type": "markdown",
   "metadata": {},
   "source": [
    "## Inspect the data and remove the cities where the humidity > 100%.\n",
    "----\n",
    "Skip this step if there are no cities that have humidity > 100%. "
   ]
  },
  {
   "cell_type": "code",
   "execution_count": 44,
   "metadata": {},
   "outputs": [
    {
     "data": {
      "text/html": [
       "<div>\n",
       "<style scoped>\n",
       "    .dataframe tbody tr th:only-of-type {\n",
       "        vertical-align: middle;\n",
       "    }\n",
       "\n",
       "    .dataframe tbody tr th {\n",
       "        vertical-align: top;\n",
       "    }\n",
       "\n",
       "    .dataframe thead th {\n",
       "        text-align: right;\n",
       "    }\n",
       "</style>\n",
       "<table border=\"1\" class=\"dataframe\">\n",
       "  <thead>\n",
       "    <tr style=\"text-align: right;\">\n",
       "      <th></th>\n",
       "      <th>City</th>\n",
       "      <th>Lat</th>\n",
       "      <th>Lng</th>\n",
       "      <th>Max Temp</th>\n",
       "      <th>Humidity</th>\n",
       "      <th>Cloudiness</th>\n",
       "      <th>Wind Speed</th>\n",
       "      <th>Country</th>\n",
       "      <th>Date</th>\n",
       "    </tr>\n",
       "  </thead>\n",
       "  <tbody>\n",
       "  </tbody>\n",
       "</table>\n",
       "</div>"
      ],
      "text/plain": [
       "Empty DataFrame\n",
       "Columns: [City, Lat, Lng, Max Temp, Humidity, Cloudiness, Wind Speed, Country, Date]\n",
       "Index: []"
      ]
     },
     "execution_count": 44,
     "metadata": {},
     "output_type": "execute_result"
    }
   ],
   "source": [
    "#  Get the indices of cities that have humidity over 100%.\n",
    "city_data_df.loc[city_data_df[\"Humidity\"] > 100, :]"
   ]
  },
  {
   "cell_type": "code",
   "execution_count": 9,
   "metadata": {},
   "outputs": [
    {
     "data": {
      "text/html": [
       "<div>\n",
       "<style scoped>\n",
       "    .dataframe tbody tr th:only-of-type {\n",
       "        vertical-align: middle;\n",
       "    }\n",
       "\n",
       "    .dataframe tbody tr th {\n",
       "        vertical-align: top;\n",
       "    }\n",
       "\n",
       "    .dataframe thead th {\n",
       "        text-align: right;\n",
       "    }\n",
       "</style>\n",
       "<table border=\"1\" class=\"dataframe\">\n",
       "  <thead>\n",
       "    <tr style=\"text-align: right;\">\n",
       "      <th></th>\n",
       "      <th>City</th>\n",
       "      <th>Lat</th>\n",
       "      <th>Lng</th>\n",
       "      <th>Max Temp</th>\n",
       "      <th>Humidity</th>\n",
       "      <th>Cloudiness</th>\n",
       "      <th>Wind Speed</th>\n",
       "      <th>Country</th>\n",
       "      <th>Date</th>\n",
       "    </tr>\n",
       "  </thead>\n",
       "  <tbody>\n",
       "    <tr>\n",
       "      <th>0</th>\n",
       "      <td>kapaa</td>\n",
       "      <td>22.0752</td>\n",
       "      <td>-159.3190</td>\n",
       "      <td>26.99</td>\n",
       "      <td>77</td>\n",
       "      <td>40</td>\n",
       "      <td>6.17</td>\n",
       "      <td>US</td>\n",
       "      <td>1651608887</td>\n",
       "    </tr>\n",
       "    <tr>\n",
       "      <th>1</th>\n",
       "      <td>barrow</td>\n",
       "      <td>71.2906</td>\n",
       "      <td>-156.7887</td>\n",
       "      <td>-5.99</td>\n",
       "      <td>86</td>\n",
       "      <td>100</td>\n",
       "      <td>5.14</td>\n",
       "      <td>US</td>\n",
       "      <td>1651608707</td>\n",
       "    </tr>\n",
       "    <tr>\n",
       "      <th>2</th>\n",
       "      <td>busselton</td>\n",
       "      <td>-33.6500</td>\n",
       "      <td>115.3333</td>\n",
       "      <td>13.33</td>\n",
       "      <td>68</td>\n",
       "      <td>84</td>\n",
       "      <td>4.85</td>\n",
       "      <td>AU</td>\n",
       "      <td>1651608889</td>\n",
       "    </tr>\n",
       "    <tr>\n",
       "      <th>3</th>\n",
       "      <td>mar del plata</td>\n",
       "      <td>-38.0023</td>\n",
       "      <td>-57.5575</td>\n",
       "      <td>16.08</td>\n",
       "      <td>59</td>\n",
       "      <td>0</td>\n",
       "      <td>6.17</td>\n",
       "      <td>AR</td>\n",
       "      <td>1651608890</td>\n",
       "    </tr>\n",
       "    <tr>\n",
       "      <th>4</th>\n",
       "      <td>vaini</td>\n",
       "      <td>-21.2000</td>\n",
       "      <td>-175.2000</td>\n",
       "      <td>23.09</td>\n",
       "      <td>88</td>\n",
       "      <td>20</td>\n",
       "      <td>2.57</td>\n",
       "      <td>TO</td>\n",
       "      <td>1651608890</td>\n",
       "    </tr>\n",
       "  </tbody>\n",
       "</table>\n",
       "</div>"
      ],
      "text/plain": [
       "            City      Lat       Lng  Max Temp  Humidity  Cloudiness  \\\n",
       "0          kapaa  22.0752 -159.3190     26.99        77          40   \n",
       "1         barrow  71.2906 -156.7887     -5.99        86         100   \n",
       "2      busselton -33.6500  115.3333     13.33        68          84   \n",
       "3  mar del plata -38.0023  -57.5575     16.08        59           0   \n",
       "4          vaini -21.2000 -175.2000     23.09        88          20   \n",
       "\n",
       "   Wind Speed Country        Date  \n",
       "0        6.17      US  1651608887  \n",
       "1        5.14      US  1651608707  \n",
       "2        4.85      AU  1651608889  \n",
       "3        6.17      AR  1651608890  \n",
       "4        2.57      TO  1651608890  "
      ]
     },
     "execution_count": 9,
     "metadata": {},
     "output_type": "execute_result"
    }
   ],
   "source": [
    "# Make a new DataFrame equal to the city data to drop all humidity outliers by index.\n",
    "# Passing \"inplace=False\" will make a copy of the city_data DataFrame, which we call \"clean_city_data\".\n"
   ]
  },
  {
   "cell_type": "code",
   "execution_count": 10,
   "metadata": {},
   "outputs": [],
   "source": []
  },
  {
   "cell_type": "markdown",
   "metadata": {},
   "source": [
    "## Plotting the Data\n",
    "* Use proper labelling of the plots using plot titles (including date of analysis) and axes labels.\n",
    "* Save the plotted figures as .pngs."
   ]
  },
  {
   "cell_type": "markdown",
   "metadata": {},
   "source": [
    "## Latitude vs. Temperature Plot"
   ]
  },
  {
   "cell_type": "code",
   "execution_count": 80,
   "metadata": {
    "scrolled": true
   },
   "outputs": [
    {
     "data": {
      "image/png": "[encoded data removed]",
      "text/plain": [
       "<Figure size 432x288 with 1 Axes>"
      ]
     },
     "metadata": {
      "needs_background": "light"
     },
     "output_type": "display_data"
    }
   ],
   "source": [
    "latitude = city_data_df[\"Lat\"]\n",
    "temperature = city_data_df[\"Max Temp\"]\n",
    "plt.scatter(latitude, temperature, color = \"orange\")\n",
    "plt.title(\"City Latitude vs Max Temperature (09/08/2022)\")\n",
    "plt.xlabel(\"Latitude\")\n",
    "plt.ylabel(\"Max Temperature (C)\")\n",
    "plt.savefig(\"output_data/lat vs max temp.png\")\n",
    "plt.show()\n",
    "#This code analyses the relationship between city latitude and max temperature. We can see as we approach 0 latitude we \n",
    "# see max temperature increase then decrease again as we move away. This is due to temperatures being higher near equator.\n"
   ]
  },
  {
   "cell_type": "markdown",
   "metadata": {},
   "source": [
    "## Latitude vs. Humidity Plot"
   ]
  },
  {
   "cell_type": "code",
   "execution_count": 81,
   "metadata": {},
   "outputs": [
    {
     "data": {
      "image/png": "[encoded data removed]",
      "text/plain": [
       "<Figure size 432x288 with 1 Axes>"
      ]
     },
     "metadata": {
      "needs_background": "light"
     },
     "output_type": "display_data"
    }
   ],
   "source": [
    "humidity_for_plot = city_data_df[\"Humidity\"]\n",
    "plt.scatter(latitude, humidity_for_plot, color = \"darkorange\")\n",
    "plt.title(\"Latitude vs Humidity (09/08/2022)\")\n",
    "plt.xlabel(\"Latitude\")\n",
    "plt.ylabel(\"Humidity (%)\")\n",
    "plt.savefig(\"output_data/lat vs humidity.png\")\n",
    "plt.show()\n",
    "#There is no clear relationship between humidity and latitude."
   ]
  },
  {
   "cell_type": "markdown",
   "metadata": {},
   "source": [
    "## Latitude vs. Cloudiness Plot"
   ]
  },
  {
   "cell_type": "code",
   "execution_count": 90,
   "metadata": {},
   "outputs": [
    {
     "data": {
      "image/png": "[encoded data removed]",
      "text/plain": [
       "<Figure size 432x288 with 1 Axes>"
      ]
     },
     "metadata": {
      "needs_background": "light"
     },
     "output_type": "display_data"
    }
   ],
   "source": [
    "cloudiness_for_plot = city_data_df[\"Cloudiness\"]\n",
    "plt.scatter(latitude, cloudiness_for_plot, color = \"grey\")\n",
    "plt.title(\"Latitude vs Cloudiness (09/08/2022)\")\n",
    "plt.xlabel(\"Latitude\")\n",
    "plt.ylabel(\"Cloudiness (%)\")\n",
    "plt.savefig(\"output_data/lat vs cloudiness.png\")\n",
    "plt.show()\n",
    "#There is no clear relationship between latitude and cloudiness."
   ]
  },
  {
   "cell_type": "markdown",
   "metadata": {},
   "source": [
    "## Latitude vs. Wind Speed Plot"
   ]
  },
  {
   "cell_type": "code",
   "execution_count": 95,
   "metadata": {},
   "outputs": [
    {
     "data": {
      "image/png": "[encoded data removed]",
      "text/plain": [
       "<Figure size 432x288 with 1 Axes>"
      ]
     },
     "metadata": {
      "needs_background": "light"
     },
     "output_type": "display_data"
    }
   ],
   "source": [
    "wind_speed_for_plot = city_data_df[\"Wind Speed\"]\n",
    "plt.scatter(latitude, wind_speed_for_plot, color = \"cyan\")\n",
    "plt.title(\"Latitude vs Wind Speed (09/08/2022)\")\n",
    "plt.xlabel(\"Latitude\")\n",
    "plt.ylabel(\"Wind Speed (m/s)\")\n",
    "plt.savefig(\"output_data/lat vs wind speed.png\")\n",
    "plt.show()\n",
    "#There is no clear relationship between latitude and wind speed."
   ]
  },
  {
   "cell_type": "markdown",
   "metadata": {},
   "source": [
    "## Linear Regression"
   ]
  },
  {
   "cell_type": "code",
   "execution_count": 15,
   "metadata": {},
   "outputs": [],
   "source": []
  },
  {
   "cell_type": "markdown",
   "metadata": {},
   "source": [
    "###  Max Temp vs. Latitude Linear Regression"
   ]
  },
  {
   "cell_type": "markdown",
   "metadata": {},
   "source": [
    "####  Northern Hemisphere - Max Temp vs. Latitude Linear Regression"
   ]
  },
  {
   "cell_type": "code",
   "execution_count": 241,
   "metadata": {},
   "outputs": [
    {
     "name": "stdout",
     "output_type": "stream",
     "text": [
      "The r-squared is: 0.4362117223490635\n",
      "The correlation coefficient is : -0.66\n"
     ]
    },
    {
     "data": {
      "image/png": "[encoded data removed]",
      "text/plain": [
       "<Figure size 432x288 with 1 Axes>"
      ]
     },
     "metadata": {
      "needs_background": "light"
     },
     "output_type": "display_data"
    }
   ],
   "source": [
    "#Finding Northern Hemisphere temperatures and latitudes\n",
    "nh_temperature = city_data_df.loc[city_data_df[\"Lat\"]>= 0, \"Max Temp\"]\n",
    "nh_lat = city_data_df.loc[city_data_df[\"Lat\"]>= 0, \"Lat\"]\n",
    "\n",
    "(slope, intercept, rvalue, pvalue, stderr) = st.linregress(nh_lat, nh_temperature)\n",
    "regress_values = nh_lat * slope + intercept\n",
    "line_eq = (f'y = {round(slope,2)}x + {round(intercept,2)}')\n",
    "plt.scatter(nh_lat, nh_temperature)\n",
    "plt.plot(nh_lat, regress_values,\"red\")\n",
    "plt.annotate(line_eq,(43,38),color=\"red\",fontsize=16)\n",
    "plt.title(\"Northern Hemisphere Max Temp vs Latitude (09/08/2022)\")\n",
    "plt.xlabel(\"Latitude\")\n",
    "plt.ylabel(\"Max Temp (C)\")\n",
    "plt.savefig(\"output_data/Northern Hemisphere - Max Temp vs. Latitude Linear Regression.png\")\n",
    "print(f\"The r-squared is: {rvalue**2}\")\n",
    "print(f'The correlation coefficient is : {round(rvalue,3)}')\n",
    "plt.show()\n",
    "#This regression is modelling the relationship between Northern Hemisphere max temp and latitude. We can observe a negative\n",
    "# correlation coeffient as latitude increases from 0. This indicates decreasing max temperatures as we move away from the\n",
    "# equator which is consistent with our understanding of higher temperatures in closer vicinity to the equator."
   ]
  },
  {
   "cell_type": "markdown",
   "metadata": {},
   "source": [
    "####  Southern Hemisphere - Max Temp vs. Latitude Linear Regression"
   ]
  },
  {
   "cell_type": "code",
   "execution_count": 240,
   "metadata": {},
   "outputs": [
    {
     "name": "stdout",
     "output_type": "stream",
     "text": [
      "The r-squared is: 0.7007025178060371\n",
      "The correlation coefficient is : 0.837\n"
     ]
    },
    {
     "data": {
      "image/png": "[encoded data removed]",
      "text/plain": [
       "<Figure size 432x288 with 1 Axes>"
      ]
     },
     "metadata": {
      "needs_background": "light"
     },
     "output_type": "display_data"
    }
   ],
   "source": [
    "#Finding Southern Hemisphere temperatures and latitudes\n",
    "sh_temperature = city_data_df.loc[city_data_df[\"Lat\"]<= 0, \"Max Temp\"]\n",
    "sh_lat = city_data_df.loc[city_data_df[\"Lat\"]<= 0, \"Lat\"]\n",
    "\n",
    "(slope, intercept, rvalue, pvalue, stderr) = st.linregress(sh_lat, sh_temperature)\n",
    "regress_values = sh_lat * slope + intercept\n",
    "line_eq = (f'y = {round(slope,2)}x + {round(intercept,2)}')\n",
    "plt.scatter(sh_lat, sh_temperature)\n",
    "plt.plot(sh_lat, regress_values,\"red\")\n",
    "plt.annotate(line_eq,(-55,30),color=\"red\",fontsize=16)\n",
    "plt.title(\"Southern Hemisphere Max Temp vs Latitude (09/08/2022)\")\n",
    "plt.xlabel(\"Latitude\")\n",
    "plt.ylabel(\"Max Temp (C)\")\n",
    "plt.savefig(\"output_data/Southern Hemisphere - Max Temp vs. Latitude Linear Regression.png\")\n",
    "print(f\"The r-squared is: {rvalue**2}\")\n",
    "print(f'The correlation coefficient is : {round(rvalue,3)}')\n",
    "plt.show()\n",
    "# This model is showing Souther Hemisphere max temperatures vs latitude. We see a strong correlation coefficient of 0.83\n",
    "# indicating that as we move towards the equator, max temperatures will increase.\n"
   ]
  },
  {
   "cell_type": "markdown",
   "metadata": {},
   "source": [
    "### Humidity (%) vs. Latitude Linear Regression"
   ]
  },
  {
   "cell_type": "markdown",
   "metadata": {},
   "source": [
    "####  Northern Hemisphere - Humidity (%) vs. Latitude Linear Regression"
   ]
  },
  {
   "cell_type": "code",
   "execution_count": 249,
   "metadata": {},
   "outputs": [
    {
     "name": "stdout",
     "output_type": "stream",
     "text": [
      "The r-squared is: 0.003987412128708343\n",
      "The correlation coefficient is : 0.063\n"
     ]
    },
    {
     "data": {
      "image/png": "[encoded data removed]",
      "text/plain": [
       "<Figure size 432x288 with 1 Axes>"
      ]
     },
     "metadata": {
      "needs_background": "light"
     },
     "output_type": "display_data"
    }
   ],
   "source": [
    "nh_humidity = city_data_df.loc[city_data_df[\"Lat\"]>= 0, \"Humidity\"]\n",
    "\n",
    "(slope, intercept, rvalue, pvalue, stderr) = st.linregress(nh_lat, nh_humidity)\n",
    "regress_values = nh_lat * slope + intercept\n",
    "line_eq = (f'y = {round(slope,2)}x + {round(intercept,2)}')\n",
    "plt.scatter(nh_lat, nh_humidity)\n",
    "plt.plot(nh_lat, regress_values,\"red\")\n",
    "plt.annotate(line_eq,(49,20),color=\"red\",fontsize=14)\n",
    "plt.title(\"Northern Hemisphere Humidity (%) vs Latitude (09/08/2022)\")\n",
    "plt.xlabel(\"Latitude\")\n",
    "plt.ylabel(\"Humidity (%)\")\n",
    "plt.savefig(\"output_data/Northern Hemisphere - Humidity vs. Latitude Linear Regression.png\")\n",
    "print(f\"The r-squared is: {(rvalue**2)}\")\n",
    "print(f'The correlation coefficient is : {round(rvalue,3)}')\n",
    "plt.show()\n",
    "#This model shows the relationship between humidity and latitude in the Northern Hemisphere. There is no clear relationship."
   ]
  },
  {
   "cell_type": "markdown",
   "metadata": {},
   "source": [
    "####  Southern Hemisphere - Humidity (%) vs. Latitude Linear Regression"
   ]
  },
  {
   "cell_type": "code",
   "execution_count": 257,
   "metadata": {},
   "outputs": [
    {
     "name": "stdout",
     "output_type": "stream",
     "text": [
      "The r-squared is: 0.019246786247061696\n",
      "The correlation coefficient is : -0.139\n"
     ]
    },
    {
     "data": {
      "image/png": "[encoded data removed]",
      "text/plain": [
       "<Figure size 432x288 with 1 Axes>"
      ]
     },
     "metadata": {
      "needs_background": "light"
     },
     "output_type": "display_data"
    }
   ],
   "source": [
    "sh_humidity = city_data_df.loc[city_data_df[\"Lat\"]<= 0, \"Humidity\"]\n",
    "\n",
    "(slope, intercept, rvalue, pvalue, stderr) = st.linregress(sh_lat, sh_humidity)\n",
    "regress_values = sh_lat * slope + intercept\n",
    "line_eq = (f'y = {round(slope,2)}x + {round(intercept,2)}')\n",
    "plt.scatter(sh_lat, sh_humidity)\n",
    "plt.plot(sh_lat, regress_values,\"red\")\n",
    "plt.annotate(line_eq,(-50,17),color=\"red\",fontsize=14)\n",
    "plt.title(\"Southern Hemisphere Humidity (%) vs Latitude (09/08/2022)\")\n",
    "plt.xlabel(\"Latitude\")\n",
    "plt.ylabel(\"Humidity (%)\")\n",
    "plt.savefig(\"output_data/Southern Hemisphere - Humidity vs. Latitude Linear Regression.png\")\n",
    "print(f\"The r-squared is: {(rvalue**2)}\")\n",
    "print(f'The correlation coefficient is : {round(rvalue,3)}')\n",
    "plt.show()\n",
    "#This model shows the relationship between humidity and latitude in the Southern Hemisphere. There is no clear relationship."
   ]
  },
  {
   "cell_type": "markdown",
   "metadata": {},
   "source": [
    "### Cloudiness (%) vs. Latitude Linear Regression"
   ]
  },
  {
   "cell_type": "markdown",
   "metadata": {},
   "source": [
    "####  Northern Hemisphere - Cloudiness (%) vs. Latitude Linear Regression"
   ]
  },
  {
   "cell_type": "code",
   "execution_count": 264,
   "metadata": {},
   "outputs": [
    {
     "name": "stdout",
     "output_type": "stream",
     "text": [
      "The r-squared is: 0.01404134090969126\n",
      "The correlation coefficient is : -0.118\n"
     ]
    },
    {
     "data": {
      "image/png": "[encoded data removed]",
      "text/plain": [
       "<Figure size 432x288 with 1 Axes>"
      ]
     },
     "metadata": {
      "needs_background": "light"
     },
     "output_type": "display_data"
    }
   ],
   "source": [
    "nh_cloudiness = city_data_df.loc[city_data_df[\"Lat\"]>= 0, \"Cloudiness\"]\n",
    "\n",
    "(slope, intercept, rvalue, pvalue, stderr) = st.linregress(nh_lat, nh_cloudiness)\n",
    "regress_values = nh_lat * slope + intercept\n",
    "line_eq = (f'y ={round(slope,2)}x + {round(intercept,2)}')\n",
    "plt.scatter(nh_lat, nh_cloudiness)\n",
    "plt.plot(nh_lat, regress_values,\"red\")\n",
    "plt.annotate(line_eq,(40,35),color=\"red\",fontsize=14)\n",
    "plt.title(\"Northern Hemisphere Cloudiness (%) vs Latitude (09/08/2022)\")\n",
    "plt.xlabel(\"Latitude\")\n",
    "plt.ylabel(\"Cloudiness (%)\")\n",
    "plt.savefig(\"output_data/Northern Hemisphere - Cloudiness vs. Latitude Linear Regression.png\")\n",
    "print(f\"The r-squared is: {(rvalue**2)}\")\n",
    "print(f'The correlation coefficient is : {round(rvalue,3)}')\n",
    "plt.show()\n",
    "#This model shows the relationship between cloudiness and latitude in the Northern Hemisphere. There is no clear relationship."
   ]
  },
  {
   "cell_type": "markdown",
   "metadata": {},
   "source": [
    "####  Southern Hemisphere - Cloudiness (%) vs. Latitude Linear Regression"
   ]
  },
  {
   "cell_type": "code",
   "execution_count": 266,
   "metadata": {},
   "outputs": [
    {
     "name": "stdout",
     "output_type": "stream",
     "text": [
      "The r-squared is: 0.029273227144613435\n",
      "The correlation coefficient is : 0.171\n"
     ]
    },
    {
     "data": {
      "image/png": "[encoded data removed]",
      "text/plain": [
       "<Figure size 432x288 with 1 Axes>"
      ]
     },
     "metadata": {
      "needs_background": "light"
     },
     "output_type": "display_data"
    }
   ],
   "source": [
    "sh_cloudiness = city_data_df.loc[city_data_df[\"Lat\"]<= 0, \"Cloudiness\"]\n",
    "\n",
    "(slope, intercept, rvalue, pvalue, stderr) = st.linregress(sh_lat, sh_cloudiness)\n",
    "regress_values = sh_lat * slope + intercept\n",
    "line_eq = (f'y ={round(slope,2)}x + {round(intercept,2)}')\n",
    "plt.scatter(sh_lat, sh_cloudiness)\n",
    "plt.plot(sh_lat, regress_values,\"red\")\n",
    "plt.annotate(line_eq,(40,35),color=\"red\",fontsize=14)\n",
    "plt.title(\"Southern Hemisphere Cloudiness (%) vs Latitude (09/08/2022)\")\n",
    "plt.xlabel(\"Latitude\")\n",
    "plt.ylabel(\"Cloudiness (%)\")\n",
    "plt.savefig(\"output_data/Southern Hemisphere - Cloudiness vs. Latitude Linear Regression.png\")\n",
    "print(f\"The r-squared is: {(rvalue**2)}\")\n",
    "print(f'The correlation coefficient is : {round(rvalue,3)}')\n",
    "plt.show()\n",
    "#This model shows the relationship between cloudiness and latitude in the Southern Hemisphere. There is no clear relationship."
   ]
  },
  {
   "cell_type": "markdown",
   "metadata": {},
   "source": [
    "### Wind Speed (m/s) vs. Latitude Linear Regression"
   ]
  },
  {
   "cell_type": "markdown",
   "metadata": {},
   "source": [
    "####  Northern Hemisphere - Wind Speed (mph) vs. Latitude Linear Regression"
   ]
  },
  {
   "cell_type": "code",
   "execution_count": 273,
   "metadata": {},
   "outputs": [
    {
     "name": "stdout",
     "output_type": "stream",
     "text": [
      "The r-squared is: 0.006736745751564136\n",
      "The correlation coefficient is : 0.082\n"
     ]
    },
    {
     "data": {
      "image/png": "[encoded data removed]",
      "text/plain": [
       "<Figure size 432x288 with 1 Axes>"
      ]
     },
     "metadata": {
      "needs_background": "light"
     },
     "output_type": "display_data"
    }
   ],
   "source": [
    "nh_wind_speed = city_data_df.loc[city_data_df[\"Lat\"]>= 0, \"Wind Speed\"]\n",
    "\n",
    "(slope, intercept, rvalue, pvalue, stderr) = st.linregress(nh_lat, nh_wind_speed)\n",
    "regress_values = nh_lat * slope + intercept\n",
    "line_eq = (f'y ={round(slope,2)}x + {round(intercept,2)}')\n",
    "plt.scatter(nh_lat, nh_wind_speed)\n",
    "plt.plot(nh_lat, regress_values,\"red\")\n",
    "plt.annotate(line_eq,(15,10),color=\"red\",fontsize=14)\n",
    "plt.title(\"Northern Hemisphere Wind Speed (m/s) vs Latitude (09/08/2022)\")\n",
    "plt.xlabel(\"Latitude\")\n",
    "plt.ylabel(\"Wind Speed (m/s)\")\n",
    "plt.savefig(\"output_data/Northern Hemisphere - Wind Speed vs. Latitude Linear Regression.png\")\n",
    "print(f\"The r-squared is: {(rvalue**2)}\")\n",
    "print(f'The correlation coefficient is : {round(rvalue,3)}')\n",
    "plt.show()\n",
    "#This model shows the relationship between wind speed and latitude in the Northern Hemisphere. There is no clear relationship."
   ]
  },
  {
   "cell_type": "markdown",
   "metadata": {},
   "source": [
    "####  Southern Hemisphere - Wind Speed (mph) vs. Latitude Linear Regression"
   ]
  },
  {
   "cell_type": "code",
   "execution_count": 278,
   "metadata": {},
   "outputs": [
    {
     "name": "stdout",
     "output_type": "stream",
     "text": [
      "The r-squared is: 0.007543347066980686\n",
      "The correlation coefficient is : 0.087\n"
     ]
    },
    {
     "data": {
      "image/png": "[encoded data removed]",
      "text/plain": [
       "<Figure size 432x288 with 1 Axes>"
      ]
     },
     "metadata": {
      "needs_background": "light"
     },
     "output_type": "display_data"
    }
   ],
   "source": [
    "sh_wind_speed = city_data_df.loc[city_data_df[\"Lat\"]<= 0, \"Wind Speed\"]\n",
    "\n",
    "(slope, intercept, rvalue, pvalue, stderr) = st.linregress(sh_lat, sh_wind_speed)\n",
    "regress_values = sh_lat * slope + intercept\n",
    "line_eq = (f'y ={round(slope,2)}x + {round(intercept,2)}')\n",
    "plt.scatter(sh_lat, sh_wind_speed)\n",
    "plt.plot(sh_lat, regress_values,\"red\")\n",
    "plt.annotate(line_eq,(-55,10),color=\"red\",fontsize=14)\n",
    "plt.title(\"Southern Hemisphere Wind Speed (m/s) vs Latitude (09/08/2022)\")\n",
    "plt.xlabel(\"Latitude\")\n",
    "plt.ylabel(\"Wind Speed (m/s)\")\n",
    "plt.savefig(\"output_data/Southern Hemisphere - Wind Speed vs. Latitude Linear Regression.png\")\n",
    "print(f\"The r-squared is: {(rvalue**2)}\")\n",
    "print(f'The correlation coefficient is : {round(rvalue,3)}')\n",
    "plt.show()\n",
    "#This model shows the relationship between wind speed and latitude in the Southern Hemisphere. There is no clear relationship."
   ]
  },
  {
   "cell_type": "code",
   "execution_count": null,
   "metadata": {},
   "outputs": [],
   "source": []
  }
 ],
 "metadata": {
  "anaconda-cloud": {},
  "kernel_info": {
   "name": "python3"
  },
  "kernelspec": {
   "display_name": "Python [conda env:PythonData] *",
   "language": "python",
   "name": "conda-env-PythonData-py"
  },
  "language_info": {
   "codemirror_mode": {
    "name": "ipython",
    "version": 3
   },
   "file_extension": ".py",
   "mimetype": "text/x-python",
   "name": "python",
   "nbconvert_exporter": "python",
   "pygments_lexer": "ipython3",
   "version": "3.7.7"
  },
  "latex_envs": {
   "LaTeX_envs_menu_present": true,
   "autoclose": false,
   "autocomplete": true,
   "bibliofile": "biblio.bib",
   "cite_by": "apalike",
   "current_citInitial": 1,
   "eqLabelWithNumbers": true,
   "eqNumInitial": 1,
   "hotkeys": {
    "equation": "Ctrl-E",
    "itemize": "Ctrl-I"
   },
   "labels_anchors": false,
   "latex_user_defs": false,
   "report_style_numbering": false,
   "user_envs_cfg": false
  },
  "nteract": {
   "version": "0.12.3"
  }
 },
 "nbformat": 4,
 "nbformat_minor": 2
}
